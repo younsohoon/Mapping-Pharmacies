{
 "cells": [
  {
   "cell_type": "code",
   "execution_count": 8,
   "metadata": {},
   "outputs": [
    {
     "name": "stdout",
     "output_type": "stream",
     "text": [
      "looping\n",
      "43.300,-80.700\n",
      "43.300,-80.400\n"
     ]
    }
   ],
   "source": [
    "import googlemaps\n",
    "import simplekml\n",
    "import math\n",
    "import time\n",
    "from pprint import pprint\n",
    "\n",
    "# Define the latitude and longitude bounds for the Waterloo region\n",
    "min_lat, max_lat = 43.3000, 43.6000\n",
    "min_lng, max_lng = -80.7000, -80.3000\n",
    "\n",
    "# Set up the Google Maps API client with your API key\n",
    "gmaps = googlemaps.Client(key=\"  \")\n",
    "\n",
    "# Define the grid spacing in meters\n",
    "grid_spacing = 300\n",
    "\n",
    "# Define the radius of the search in meters\n",
    "search_radius = 10000\n",
    "\n",
    "# Define the list to store the unique results\n",
    "results = []\n",
    "\n",
    "print(\"looping\")\n",
    "# Loop through all the grid points\n",
    "for lat in range(math.floor(min_lat*1000), math.ceil(max_lat*1000), math.floor(grid_spacing)):\n",
    "    #print(\"outer loop\")\n",
    "    for lng in range(math.floor(min_lng*1000), math.ceil(max_lng*1000), math.floor(grid_spacing)):\n",
    "        \n",
    "        # Convert the latitude and longitude values from integers to floats with 3 decimal places\n",
    "        lati, lngi = lat / 1000, lng / 1000\n",
    "    \n",
    "        # Check if the current grid point is within the bounds of Waterloo\n",
    "        if lat > 43.4096 or lat < 43.3529 or lng > -80.4471 or lng < -80.5744:\n",
    "            #continue\n",
    "            pass\n",
    "        # Define the search location as a string in the format \"latitude,longitude\"\n",
    "        location = f\"{lati:.3f},{lngi:.3f}\"\n",
    "        print(location)\n",
    "        # Call the Places API to search for pharmacies within the search radius\n",
    "        places_result = gmaps.places(query=\"pharmacy\", location=location, radius=search_radius)\n",
    "        #print(\"I am here\")\n",
    "        #places_result['results']\n",
    "        #pprint(places_result)\n",
    "        \n",
    "        time.sleep(2)\n",
    "        \n",
    "        # Loop through all pages of the search results using the \"page_token\" parameter\n",
    "        while True:\n",
    "            # Add the unique results to the list\n",
    "            for place in places_result[\"results\"]:\n",
    "                if place not in results:\n",
    "                    results.append(place)\n",
    "            \n",
    "            # Check if there are more pages of search results\n",
    "            if \"next_page_token\" not in places_result:\n",
    "                break\n",
    "            \n",
    "            # Get the next page of search results\n",
    "            places_result = gmaps.places(query=\"pharmacy\", location=location, radius=search_radius, page_token=places_result[\"next_page_token\"])\n",
    "            time.sleep(2)\n",
    "\n",
    "    \n",
    "# Create a new KML file\n",
    "kml = simplekml.Kml()\n",
    "\n",
    "# Loop through all the unique results and add them to the KML file\n",
    "for place in results:\n",
    "    # Get only Waterloo data \n",
    "    if \"waterloo, on\" not in place[\"formatted_address\"].lower() : \n",
    "        continue\n",
    "    # Get the name and location of the place\n",
    "    name = place[\"name\"]\n",
    "    location = place[\"geometry\"][\"location\"]\n",
    "    lat, lng = location[\"lat\"], location[\"lng\"]\n",
    "    \n",
    "    # Create a new point placemark at the location of the place\n",
    "    point = kml.newpoint(name=name, coords=[(lng, lat)])\n",
    "    point.description = f\"Name: {name}\\nLatitude: {lat:.6f}\\nLongitude: {lng:.6f}\"\n",
    "\n",
    "# Save the KML file\n",
    "kml.save(\"\")"
   ]
  },
  {
   "cell_type": "code",
   "execution_count": null,
   "metadata": {},
   "outputs": [],
   "source": [
    "print()"
   ]
  }
 ],
 "metadata": {
  "kernelspec": {
   "display_name": "Python 3",
   "language": "python",
   "name": "python3"
  },
  "language_info": {
   "codemirror_mode": {
    "name": "ipython",
    "version": 3
   },
   "file_extension": ".py",
   "mimetype": "text/x-python",
   "name": "python",
   "nbconvert_exporter": "python",
   "pygments_lexer": "ipython3",
   "version": "3.8.0"
  },
  "orig_nbformat": 4,
  "vscode": {
   "interpreter": {
    "hash": "aee8b7b246df8f9039afb4144a1f6fd8d2ca17a180786b69acc140d282b71a49"
   }
  }
 },
 "nbformat": 4,
 "nbformat_minor": 2
}
